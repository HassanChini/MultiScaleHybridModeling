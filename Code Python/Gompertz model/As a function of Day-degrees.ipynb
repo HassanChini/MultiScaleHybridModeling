{
 "cells": [
  {
   "cell_type": "markdown",
   "id": "5966cda9",
   "metadata": {},
   "source": [
    "# Description"
   ]
  },
  {
   "cell_type": "code",
   "execution_count": null,
   "id": "736b4b32",
   "metadata": {},
   "outputs": [],
   "source": [
    "\n",
    "#     Gompertz model\n",
    "#  mean plant weight as a function of Day-degrees (EDD) for different densities d=180, d= 480, d=1920, d=7680\n",
    "#  \n",
    "#    \n"
   ]
  },
  {
   "cell_type": "markdown",
   "id": "e09409a4",
   "metadata": {},
   "source": [
    "# d = 180"
   ]
  },
  {
   "cell_type": "code",
   "execution_count": 16,
   "id": "9066bfce",
   "metadata": {},
   "outputs": [
    {
     "name": "stdout",
     "output_type": "stream",
     "text": [
      "Using matplotlib backend: TkAgg\n",
      "Paramètres optimaux : a = 20910.30112372, b = 19.25763203, c = 0.00133771\n",
      "Coefficient de détermination : R2 = 0.9999\n",
      "Paramètres optimaux : a = 92194.18355545, b = 21.91321034, c = 0.00108617\n",
      "Coefficient de détermination : R2 = 0.9908\n",
      "Paramètres optimaux : a = 6.57557323, b = 19.13902894, c = 0.00524234\n",
      "Coefficient de détermination : R2 = 0.9999\n"
     ]
    }
   ],
   "source": [
    "%reset -f\n",
    "import numpy as np\n",
    "from scipy.optimize import minimize\n",
    "import matplotlib.pyplot as plt\n",
    "%matplotlib\n",
    "plt.ion()\n",
    "plt.figure()\n",
    "\n",
    "DD=np.array([[200,290,335,390],[180,340,405,455],[135,205,315,420]])\n",
    "t=np.linspace(100,500,1000)\n",
    "density=np.array([180,480,1920,7680])\n",
    "date=['03/09/81','14/10/81','16/03/82']\n",
    "\n",
    "\n",
    "def gompertz(t, a, b, c):\n",
    "    return a * np.exp(-b * np.exp(-c * t))\n",
    "\n",
    "weights=np.array([  \n",
    "                    [0.009687573, 0.044685234, 0.094008898, 0.227650969],\n",
    "                    [0.004384217, 0.031238793, 0.061785221, 0.146166469],\n",
    "                    [0.003410082, 0.014033932, 0.166518499, 0.791899893]])\n",
    "for i in range(0,3):\n",
    "    \n",
    "    def objective(params):\n",
    "        a, b, c = params\n",
    "        y_pred = np.array([gompertz(DD[i][j], a, b, c) for j in range(4)])\n",
    "        y_obs = weights[i]\n",
    "        return sum((y_obs - y_pred) ** 2)\n",
    "\n",
    "\n",
    "    params0 = [0.0005, 1, 0.01]\n",
    "    result = minimize(objective, params0)\n",
    "    print(\"Paramètres optimaux : a = %.8f, b = %.8f, c = %.8f\" % tuple(result.x))\n",
    "\n",
    "    y_obs = weights[i]\n",
    "\n",
    "    # Calcul de la somme des carrés totale\n",
    "    y_mean = np.mean(y_obs)\n",
    "    SST = sum((y_obs - y_mean) ** 2)\n",
    "\n",
    "    # Calcul de la somme des carrés résiduels\n",
    "    a_opt, b_opt, c_opt = result.x\n",
    "    y_pred = np.array([gompertz(DD[i][j],  a_opt, b_opt, c_opt) for j in range(4)])\n",
    "    SSR = sum((y_obs - y_pred) ** 2)\n",
    "\n",
    "    # Calcul du coefficient de détermination\n",
    "    R2 = 1 - (SSR / SST)\n",
    "    plt.xlabel('DD')\n",
    "    plt.ylabel('mean dry weight per plant')\n",
    "    print(\"Coefficient de détermination : R2 = %.4f\" % R2)\n",
    "    plt.plot(t, gompertz(t,a_opt, b_opt, c_opt),ls=\"-\",label=('date=%s'%date[i]),lw=1)\n",
    "    plt.scatter(DD[i], y_obs)\n",
    "    plt.title('density=180')\n",
    "    plt.legend()\n",
    "plt.show()\n",
    "    "
   ]
  },
  {
   "cell_type": "markdown",
   "id": "62cd592a",
   "metadata": {},
   "source": [
    "# d = 480"
   ]
  },
  {
   "cell_type": "code",
   "execution_count": 17,
   "id": "9960a4f5",
   "metadata": {},
   "outputs": [
    {
     "name": "stdout",
     "output_type": "stream",
     "text": [
      "Using matplotlib backend: TkAgg\n",
      "Paramètres optimaux : a = 423.46412427, b = 15.02477537, c = 0.00168231\n",
      "Coefficient de détermination : R2 = 1.0000\n",
      "Paramètres optimaux : a = 122860.45981876, b = 20.74554733, c = 0.00087283\n",
      "Coefficient de détermination : R2 = 0.9929\n",
      "Paramètres optimaux : a = 4.62307031, b = 14.66429905, c = 0.00454307\n",
      "Coefficient de détermination : R2 = 1.0000\n"
     ]
    }
   ],
   "source": [
    "%reset -f\n",
    "import numpy as np\n",
    "from scipy.optimize import minimize\n",
    "import matplotlib.pyplot as plt\n",
    "%matplotlib\n",
    "plt.ion()\n",
    "plt.figure()\n",
    "\n",
    "DD=np.array([[200,290,335,390],[180,340,405,455],[135,205,315,420]])\n",
    "t=np.linspace(100,500,1000)\n",
    "density=np.array([180,480,1920,7680])\n",
    "date=['03/09/81','14/10/81','16/03/82']\n",
    "\n",
    "\n",
    "def gompertz(t, a, b, c):\n",
    "    return a * np.exp(-b * np.exp(-c * t))\n",
    "\n",
    "weights=np.array([  \n",
    "                    [0.00950582, 0.041555591, 0.081858259, 0.174277332],\n",
    "                    [0.004358162, 0.02856206, 0.053209048, 0.109509946],\n",
    "                    [0.003427019, 0.013765618, 0.138878128, 0.524883641]])\n",
    "\n",
    "for i in range(0,3):\n",
    "    \n",
    "    def objective(params):\n",
    "        a, b, c = params\n",
    "        y_pred = np.array([gompertz(DD[i][j],  a, b, c) for j in range(4)])\n",
    "        y_obs = weights[i]\n",
    "        return sum((y_obs - y_pred) ** 2)\n",
    "\n",
    "\n",
    "    params0 = [0.0005, 1, 0.01]\n",
    "    result = minimize(objective, params0)\n",
    "    print(\"Paramètres optimaux : a = %.8f, b = %.8f, c = %.8f\" % tuple(result.x))\n",
    "\n",
    "    y_obs = weights[i]\n",
    "\n",
    "    # Calcul de la somme des carrés totale\n",
    "    y_mean = np.mean(y_obs)\n",
    "    SST = sum((y_obs - y_mean) ** 2)\n",
    "\n",
    "    # Calcul de la somme des carrés résiduels\n",
    "    a_opt, b_opt, c_opt = result.x\n",
    "    y_pred = np.array([gompertz(DD[i][j],  a_opt, b_opt, c_opt) for j in range(4)])\n",
    "    SSR = sum((y_obs - y_pred) ** 2)\n",
    "\n",
    "    # Calcul du coefficient de détermination\n",
    "    R2 = 1 - (SSR / SST)\n",
    "    plt.xlabel('DD')\n",
    "    print(\"Coefficient de détermination : R2 = %.4f\" % R2)\n",
    "    plt.plot(t, gompertz(t,a_opt, b_opt, c_opt),ls=\"-\",label=('date=%s'%date[i]),lw=1)\n",
    "    plt.scatter(DD[i], y_obs)\n",
    "    plt.title('density=480')\n",
    "plt.show()"
   ]
  },
  {
   "cell_type": "markdown",
   "id": "c5e5d4d9",
   "metadata": {},
   "source": [
    "# d = 1920"
   ]
  },
  {
   "cell_type": "code",
   "execution_count": 18,
   "id": "201a3da8",
   "metadata": {},
   "outputs": [
    {
     "name": "stdout",
     "output_type": "stream",
     "text": [
      "Using matplotlib backend: TkAgg\n",
      "Paramètres optimaux : a = 0.59219117, b = 9.36546906, c = 0.00398826\n",
      "Coefficient de détermination : R2 = 1.0000\n",
      "Paramètres optimaux : a = 2295.03895133, b = 14.97432846, c = 0.00072862\n",
      "Coefficient de détermination : R2 = 0.9977\n",
      "Paramètres optimaux : a = 0.73508093, b = 11.77353348, c = 0.00524775\n",
      "Coefficient de détermination : R2 = 0.9999\n"
     ]
    }
   ],
   "source": [
    "%reset -f\n",
    "import numpy as np\n",
    "from scipy.optimize import minimize\n",
    "import matplotlib.pyplot as plt\n",
    "%matplotlib\n",
    "plt.ion()\n",
    "plt.figure()\n",
    "\n",
    "DD=np.array([[200,290,335,390],[180,340,405,455],[135,205,315,420]])\n",
    "t=np.linspace(100,500,1000)\n",
    "density=np.array([180,480,1920,7680])\n",
    "date=['03/09/81','14/10/81','16/03/82']\n",
    "\n",
    "def gompertz(t, a, b, c):\n",
    "    return a * np.exp(-b * np.exp(-c * t))\n",
    "\n",
    "weights=np.array([  \n",
    "                    [0.008720495, 0.031100293, 0.050517334, 0.081998265],\n",
    "                    [0.004237288, 0.020238212, 0.031933032, 0.049692016],\n",
    "                    [0.003510715, 0.012608524, 0.077294031, 0.200453187]])\n",
    "\n",
    "for i in range(0,3):\n",
    "    \n",
    "    def objective(params):\n",
    "        a, b, c = params\n",
    "        y_pred = np.array([gompertz(DD[i][j],  a, b, c) for j in range(4)])\n",
    "        y_obs = weights[i]\n",
    "        return sum((y_obs - y_pred) ** 2)\n",
    "\n",
    "\n",
    "\n",
    "    params0 = [0.0005, 1, 0.01]\n",
    "    result = minimize(objective, params0)\n",
    "    print(\"Paramètres optimaux : a = %.8f, b = %.8f, c = %.8f\" % tuple(result.x))\n",
    "\n",
    "    y_obs = weights[i]\n",
    "\n",
    "    # Calcul de la somme des carrés totale\n",
    "    y_mean = np.mean(y_obs)\n",
    "    SST = sum((y_obs - y_mean) ** 2)\n",
    "\n",
    "    # Calcul de la somme des carrés résiduels\n",
    "    a_opt, b_opt, c_opt = result.x\n",
    "    y_pred = np.array([gompertz(DD[i][j],  a_opt, b_opt, c_opt) for j in range(4)])\n",
    "    SSR = sum((y_obs - y_pred) ** 2)\n",
    "    plt.xlabel('DD')\n",
    "    # Calcul du coefficient de détermination\n",
    "    R2 = 1 - (SSR / SST)\n",
    "    print(\"Coefficient de détermination : R2 = %.4f\" % R2)\n",
    "    plt.plot(t, gompertz(t,a_opt, b_opt, c_opt),ls=\"-\",label=('date=%s'%date[i]),lw=1)\n",
    "    plt.scatter(DD[i], y_obs)\n",
    "    plt.title('density=1920')\n",
    "    "
   ]
  },
  {
   "cell_type": "markdown",
   "id": "2d1b50b0",
   "metadata": {},
   "source": [
    "# d = 7680"
   ]
  },
  {
   "cell_type": "code",
   "execution_count": 19,
   "id": "7fa5bd51",
   "metadata": {},
   "outputs": [
    {
     "name": "stdout",
     "output_type": "stream",
     "text": [
      "Using matplotlib backend: TkAgg\n",
      "Paramètres optimaux : a = 0.05326513, b = 6.48810517, c = 0.00567737\n",
      "Coefficient de détermination : R2 = 0.9993\n",
      "Paramètres optimaux : a = 0.42872288, b = 5.92765063, c = 0.00127504\n",
      "Coefficient de détermination : R2 = 0.9991\n",
      "Paramètres optimaux : a = 0.31546834, b = 7.01505679, c = 0.00337591\n",
      "Coefficient de détermination : R2 = 1.0000\n"
     ]
    }
   ],
   "source": [
    "%reset -f\n",
    "import numpy as np\n",
    "from scipy.optimize import minimize\n",
    "import matplotlib.pyplot as plt\n",
    "%matplotlib\n",
    "plt.ion()\n",
    "plt.figure()\n",
    "\n",
    "DD=np.array([[200,290,335,390],[180,340,405,455],[135,205,315,420]])\n",
    "t=np.linspace(100,500,1000)\n",
    "density=np.array([180,480,1920,7680])\n",
    "date=['03/09/81','14/10/81','16/03/82']\n",
    "\n",
    "def gompertz(t, a, b, c):\n",
    "    return a * np.exp(-b * np.exp(-c * t))\n",
    "\n",
    "weights=np.array([  \n",
    "                    [0.006554492, 0.01550061, 0.019955708, 0.026298504],\n",
    "                    [0.003814147, 0.009344792, 0.012284636, 0.015602225],\n",
    "                    [0.003890805, 0.009435913, 0.027866162, 0.057727578]])\n",
    "\n",
    "for i in range(0,3):\n",
    "    \n",
    "    def objective(params):\n",
    "        a, b, c = params\n",
    "        y_pred = np.array([gompertz(DD[i][j],  a, b, c) for j in range(4)])\n",
    "        y_obs = weights[i]\n",
    "        return sum((y_obs - y_pred) ** 2)\n",
    "\n",
    "\n",
    "\n",
    "    params0 = [0.0005, 1, 0.01]\n",
    "    result = minimize(objective, params0)\n",
    "    print(\"Paramètres optimaux : a = %.8f, b = %.8f, c = %.8f\" % tuple(result.x))\n",
    "\n",
    "    y_obs = weights[i]\n",
    "\n",
    "    # Calcul de la somme des carrés totale\n",
    "    y_mean = np.mean(y_obs)\n",
    "    SST = sum((y_obs - y_mean) ** 2)\n",
    "\n",
    "    # Calcul de la somme des carrés résiduels\n",
    "    a_opt, b_opt, c_opt = result.x\n",
    "    y_pred = np.array([gompertz(DD[i][j],  a_opt, b_opt, c_opt) for j in range(4)])\n",
    "    SSR = sum((y_obs - y_pred) ** 2)\n",
    "\n",
    "    # Calcul du coefficient de détermination\n",
    "    R2 = 1 - (SSR / SST)\n",
    "    print(\"Coefficient de détermination : R2 = %.4f\" % R2)\n",
    "    plt.xlabel('DD')\n",
    "    plt.plot(t, gompertz(t,a_opt, b_opt, c_opt),ls=\"-\",label=('date=%s'%date[i]),lw=1)\n",
    "    plt.scatter(DD[i], y_obs)\n",
    "    plt.title('density=7680')\n",
    "plt.show()\n"
   ]
  },
  {
   "cell_type": "code",
   "execution_count": null,
   "id": "21f6ad1c",
   "metadata": {},
   "outputs": [],
   "source": []
  },
  {
   "cell_type": "code",
   "execution_count": null,
   "id": "8af6d21e",
   "metadata": {},
   "outputs": [],
   "source": []
  },
  {
   "cell_type": "code",
   "execution_count": null,
   "id": "48ef0fa3",
   "metadata": {},
   "outputs": [],
   "source": []
  }
 ],
 "metadata": {
  "kernelspec": {
   "display_name": "Python 3 (ipykernel)",
   "language": "python",
   "name": "python3"
  },
  "language_info": {
   "codemirror_mode": {
    "name": "ipython",
    "version": 3
   },
   "file_extension": ".py",
   "mimetype": "text/x-python",
   "name": "python",
   "nbconvert_exporter": "python",
   "pygments_lexer": "ipython3",
   "version": "3.9.12"
  }
 },
 "nbformat": 4,
 "nbformat_minor": 5
}
