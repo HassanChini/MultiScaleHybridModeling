{
 "cells": [
  {
   "cell_type": "code",
   "execution_count": 5,
   "id": "4614ef0f",
   "metadata": {},
   "outputs": [
    {
     "name": "stdout",
     "output_type": "stream",
     "text": [
      "Using matplotlib backend: TkAgg\n",
      "inv_q optimal is : inv_q= 0.00925745\n",
      "Coefficient de détermination : R2 = -0.36196474\n"
     ]
    }
   ],
   "source": [
    "#      Scaife, Cox and Morris model\n",
    "#            Expression of b\n",
    "#                 1/b = q * MDR\n",
    "#\n",
    "#\n",
    "#\n",
    "#\n",
    "#"
   ]
  },
  {
   "cell_type": "code",
   "execution_count": null,
   "id": "557da47d",
   "metadata": {},
   "outputs": [],
   "source": []
  },
  {
   "cell_type": "code",
   "execution_count": 3,
   "id": "aeaa46d5",
   "metadata": {},
   "outputs": [
    {
     "name": "stdout",
     "output_type": "stream",
     "text": [
      "Using matplotlib backend: TkAgg\n",
      "inv_q optimal is : inv_q= 0.00925745\n",
      "Coefficient de détermination : R2 = -0.36196474\n"
     ]
    }
   ],
   "source": [
    "import numpy as np\n",
    "from scipy.optimize import minimize\n",
    "import matplotlib.pyplot as plt\n",
    "%matplotlib\n",
    "plt.ion()\n",
    "t=np.linspace(0.8,7,1000)\n",
    "date=['03/09/81','14/10/81','16/03/82']\n",
    "\n",
    "\n",
    "\n",
    "inv_b2=np.array([152, 178, 190, 223])\n",
    "inv_b3=np.array([220, 100, 115, 131])\n",
    "inv_b4=np.array([216, 216, 251, 467])\n",
    "b2, b3, b4= 1/inv_b2, 1/inv_b3, 1/inv_b4\n",
    "inv_b=np.concatenate((inv_b2, inv_b3, inv_b4))\n",
    "b=1/inv_b\n",
    "\n",
    "MDR2=np.array([4.242, 3.646, 3.646, 3.377])\n",
    "MDR3=np.array([1.96, 1.077, 0.86, 0.86])\n",
    "MDR4=np.array([4.242, 4.242, 4.807, 6.3])\n",
    "MDR=np.concatenate((MDR2,MDR3,MDR4))\n",
    "inv_MDR=1/MDR\n",
    "\n",
    "def hyperbol(inv_MDR, inv_q):\n",
    "    return inv_q*inv_MDR\n",
    "\n",
    "\n",
    "def objective(params):\n",
    "    inv_q,r = params\n",
    "    y_pred = np.array([hyperbol(inv_MDR[i], inv_q) for i in range(len(MDR))])\n",
    "    y_obs = b\n",
    "    return sum((y_obs - y_pred) ** 2)\n",
    "\n",
    "params = [0.01,10]\n",
    "result = minimize(objective, params)\n",
    "print(\"inv_q optimal is : inv_q= %.8f\" % (result.x[0]))\n",
    "\n",
    "y_obs = b\n",
    "\n",
    "# Calcul de la somme des carrés totale\n",
    "y_mean = np.mean(y_obs)\n",
    "SST = sum((y_obs - y_mean) ** 2)\n",
    "\n",
    "# Calcul de la somme des carrés résiduels\n",
    "inv_q_opt = result.x[0]\n",
    "y_pred = np.array([hyperbol(inv_MDR[i], inv_q_opt) for i in range(len(b))])\n",
    "SSR = sum((y_obs - y_pred) ** 2)\n",
    "\n",
    "# Calcul du coefficient de détermination\n",
    "R2 = 1 - (SSR / SST)\n",
    "print(\"Coefficient de détermination : R2 = %.8f\" % R2)\n",
    "\n",
    "\n",
    "\n",
    "plt.scatter(MDR2,b2,label=date[0])\n",
    "plt.scatter(MDR3,b3,label=date[1])\n",
    "plt.scatter(MDR4,b4,label=date[2])\n",
    "\n",
    "\n",
    "plt.xlabel('MDR')\n",
    "plt.ylabel('b')\n",
    "#plt.title('relationship between b and MDR (R2=%.4f)'%R2)\n",
    "\n",
    "def hyperbol2(t, inv_q):\n",
    "    return inv_q/t\n",
    "plt.plot(t,hyperbol2(t, inv_q_opt),label='fitted data')\n",
    "\n",
    "plt.legend()\n",
    "plt.subplots_adjust(left=0.136, bottom=0.108, right=0.988, top=0.94, wspace=0.246)\n",
    "plt.show()"
   ]
  },
  {
   "cell_type": "code",
   "execution_count": null,
   "id": "da9b6db6",
   "metadata": {},
   "outputs": [],
   "source": []
  },
  {
   "cell_type": "code",
   "execution_count": null,
   "id": "00bea416",
   "metadata": {},
   "outputs": [],
   "source": []
  },
  {
   "cell_type": "code",
   "execution_count": null,
   "id": "04641c9a",
   "metadata": {},
   "outputs": [],
   "source": []
  },
  {
   "cell_type": "code",
   "execution_count": null,
   "id": "d7c1ebe6",
   "metadata": {},
   "outputs": [],
   "source": []
  },
  {
   "cell_type": "code",
   "execution_count": null,
   "id": "6fcf5e90",
   "metadata": {},
   "outputs": [],
   "source": []
  },
  {
   "cell_type": "code",
   "execution_count": null,
   "id": "014a073f",
   "metadata": {},
   "outputs": [],
   "source": []
  },
  {
   "cell_type": "code",
   "execution_count": null,
   "id": "b3ecf23b",
   "metadata": {},
   "outputs": [],
   "source": [
    "\n"
   ]
  },
  {
   "cell_type": "code",
   "execution_count": null,
   "id": "20eca48e",
   "metadata": {},
   "outputs": [],
   "source": []
  },
  {
   "cell_type": "code",
   "execution_count": null,
   "id": "816012c1",
   "metadata": {},
   "outputs": [],
   "source": []
  }
 ],
 "metadata": {
  "kernelspec": {
   "display_name": "Python 3 (ipykernel)",
   "language": "python",
   "name": "python3"
  },
  "language_info": {
   "codemirror_mode": {
    "name": "ipython",
    "version": 3
   },
   "file_extension": ".py",
   "mimetype": "text/x-python",
   "name": "python",
   "nbconvert_exporter": "python",
   "pygments_lexer": "ipython3",
   "version": "3.9.12"
  }
 },
 "nbformat": 4,
 "nbformat_minor": 5
}
