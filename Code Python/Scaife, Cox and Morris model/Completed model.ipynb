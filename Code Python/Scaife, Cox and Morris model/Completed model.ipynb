{
 "cells": [
  {
   "cell_type": "code",
   "execution_count": null,
   "id": "ca3d8fe2",
   "metadata": {},
   "outputs": [],
   "source": []
  },
  {
   "cell_type": "code",
   "execution_count": 3,
   "id": "b354583f",
   "metadata": {},
   "outputs": [
    {
     "name": "stdout",
     "output_type": "stream",
     "text": [
      "Using matplotlib backend: TkAgg\n"
     ]
    }
   ],
   "source": [
    "import numpy as np\n",
    "from scipy.optimize import minimize\n",
    "import matplotlib.pyplot as plt\n",
    "%matplotlib\n",
    "plt.ion()\n",
    "w0=0.0002558\n",
    "p=0.02466\n",
    "f=0.0934\n",
    "inv_q=0.00925745\n",
    "density=np.array([180,480,1920,7680])\n",
    "\n",
    "MDR2=np.array([4.242, 3.646, 3.646, 3.377])\n",
    "MDR3=np.array([1.96, 1.077, 0.86, 0.86])\n",
    "MDR4=np.array([4.242, 4.242, 4.807, 6.3])\n",
    "MDR=np.concatenate((MDR2,MDR3,MDR4))\n",
    "inv_MDR=1/MDR\n",
    "\n",
    "\n",
    "DD2=np.array([200,290,335,390])\n",
    "DD3=np.array([180,340,405,455])\n",
    "DD4=np.array([205,205,315,420])\n",
    "DD=np.concatenate((DD2,DD3,DD4))\n",
    "\n",
    "R2=np.array([54, 68.5125, 76.16842105, 95.27142857])\n",
    "R3=np.array([32.4, 43.71428571, 50.38676471, 59.76486486])\n",
    "R4=np.array([65.6, 65.6, 150.255, 189])\n",
    "R=np.concatenate((R2,R3,R4))\n",
    "\n",
    "EDD=1/( (1/DD) + f * (1/R) )\n",
    "\n",
    "\n",
    "\n",
    "inv_a2=np.array([0.0098,0.0468,0.1032,0.2789])\n",
    "a2=1/inv_a2\n",
    "inv_a3=np.array([0.0044,0.0331,0.0684,0.1829])\n",
    "a3=1/inv_a3\n",
    "inv_a4=np.array([0.0142,0.0142,0.1891,1.1398])\n",
    "a4=1/inv_a4\n",
    "a=np.concatenate((a2,a3,a4))\n",
    "\n",
    "\n",
    "inv_b2=np.array([152, 178, 190, 223])\n",
    "inv_b3=np.array([220, 100, 115, 131])\n",
    "inv_b4=np.array([216, 216, 251, 467])\n",
    "b2, b3, b4 = 1/inv_b2, 1/inv_b3, 1/inv_b4\n",
    "b=np.concatenate((b2, b3, b4))\n",
    "\n",
    "w_observed_180 = 1/ ( a + density[0] * b  )\n",
    "w_observed_480 = 1/ ( a + density[1] * b  )\n",
    "w_observed_1920 = 1/ ( a + density[2] * b  )\n",
    "w_observed_7680 = 1/ ( a + density[3] * b  )\n",
    "w_observed=np.concatenate((w_observed_180,w_observed_480,w_observed_1920,w_observed_7680))\n",
    "\n",
    "w_estimated_180 = 1 / (   (1/(w0*np.exp(p*EDD)))  +  inv_q*inv_MDR*density[0]  )\n",
    "w_estimated_480 = 1 / (   (1/(w0*np.exp(p*EDD)))  +  inv_q*inv_MDR*density[1]  )\n",
    "w_estimated_1920 = 1 / (   (1/(w0*np.exp(p*EDD)))  +  inv_q*inv_MDR*density[2]  )\n",
    "w_estimated_7680 = 1 / (   (1/(w0*np.exp(p*EDD)))  +  inv_q*inv_MDR*density[3]  )\n",
    "w_estimated = np.concatenate((w_estimated_180,w_estimated_480,w_estimated_1920,w_estimated_7680))\n",
    "\n",
    "\n",
    "plt.xlabel('estimated ln w')\n",
    "plt.ylabel('observed ln w')\n",
    "\n",
    "\n",
    "\n",
    "SST=0\n",
    "SSR=0\n",
    "SSE=0\n",
    "for j in range(len(w_estimated)):\n",
    "    SST = SST + ( (w_observed[j]) -  np.mean ( (w_observed) ) )**2\n",
    "    SSE = SSE + ( (w_observed[j]) -   ( (w_estimated[j]) ) )**2\n",
    "R2=1-(SSE/SST)\n",
    "\n",
    "\n",
    "plt.title('Relationship between observed and estimated mean plant weight (R2=%.8f)'%R2)\n",
    "\n",
    "\n",
    "plt.scatter(np.log(w_estimated_180), np.log(w_observed_180),label='180')\n",
    "plt.scatter(np.log(w_estimated_480), np.log(w_observed_480),label='480')\n",
    "plt.scatter(np.log(w_estimated_1920), np.log(w_observed_1920),label='1920')\n",
    "plt.scatter(np.log(w_estimated_7680), np.log(w_observed_7680),label='7680')\n",
    "plt.plot(np.log(w_estimated),np.log(w_estimated))\n",
    "plt.legend()\n",
    "plt.show()"
   ]
  },
  {
   "cell_type": "code",
   "execution_count": null,
   "id": "9d9bc3ae",
   "metadata": {},
   "outputs": [],
   "source": [
    "    "
   ]
  },
  {
   "cell_type": "code",
   "execution_count": null,
   "id": "878bcb5a",
   "metadata": {},
   "outputs": [],
   "source": [
    "    "
   ]
  },
  {
   "cell_type": "code",
   "execution_count": null,
   "id": "44a68cec",
   "metadata": {},
   "outputs": [],
   "source": []
  },
  {
   "cell_type": "code",
   "execution_count": null,
   "id": "c96e0659",
   "metadata": {},
   "outputs": [],
   "source": []
  },
  {
   "cell_type": "code",
   "execution_count": null,
   "id": "58a120a0",
   "metadata": {},
   "outputs": [],
   "source": []
  }
 ],
 "metadata": {
  "kernelspec": {
   "display_name": "Python 3 (ipykernel)",
   "language": "python",
   "name": "python3"
  },
  "language_info": {
   "codemirror_mode": {
    "name": "ipython",
    "version": 3
   },
   "file_extension": ".py",
   "mimetype": "text/x-python",
   "name": "python",
   "nbconvert_exporter": "python",
   "pygments_lexer": "ipython3",
   "version": "3.9.12"
  }
 },
 "nbformat": 4,
 "nbformat_minor": 5
}
