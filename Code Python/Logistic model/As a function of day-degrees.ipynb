{
 "cells": [
  {
   "cell_type": "markdown",
   "id": "abf01f33",
   "metadata": {},
   "source": [
    "# Discription"
   ]
  },
  {
   "cell_type": "code",
   "execution_count": 9,
   "id": "736b4b32",
   "metadata": {},
   "outputs": [
    {
     "data": {
      "text/plain": [
       "'jhj'"
      ]
     },
     "execution_count": 9,
     "metadata": {},
     "output_type": "execute_result"
    }
   ],
   "source": [
    "\n",
    "#     Logistic model\n",
    "#  mean plant weight as a function of day-degrees (DD) for different densities d=180, d= 480, d=1920, d=7680\n",
    "#  \n",
    "#    \n",
    "#\n",
    "\n"
   ]
  },
  {
   "cell_type": "markdown",
   "id": "5e4a95ba",
   "metadata": {},
   "source": [
    "# d = 180"
   ]
  },
  {
   "cell_type": "code",
   "execution_count": 3,
   "id": "9066bfce",
   "metadata": {},
   "outputs": [
    {
     "name": "stdout",
     "output_type": "stream",
     "text": [
      "Using matplotlib backend: TkAgg\n",
      "Paramètres optimaux : w0 = 0.00021999, k = 1.10639704, r = 0.01838567\n",
      "Coefficient de détermination : R2 = 0.9999\n",
      "Paramètres optimaux : w0 = 0.00008563, k = 1.03242265, r = 0.01665994\n",
      "Coefficient de détermination : R2 = 0.9911\n",
      "Paramètres optimaux : w0 = 0.00011524, k = 1.20987476, r = 0.02356503\n",
      "Coefficient de détermination : R2 = 1.0000\n"
     ]
    }
   ],
   "source": [
    "%reset -f\n",
    "import numpy as np\n",
    "from scipy.optimize import minimize\n",
    "import matplotlib.pyplot as plt\n",
    "%matplotlib\n",
    "plt.ion()\n",
    "\n",
    "\n",
    "\n",
    "DD=np.array([[200, 290, 335, 390],[ 180, 340, 405, 455],[ 135, 205, 315, 420 ]])\n",
    "intervale=np.linspace(100,500,1000)\n",
    "density=np.array([180,480,1920,7680])\n",
    "time=np.array([[13,19,22,27],[19,34,42,50],[16,23,35,43]])\n",
    "date=['03/09/81','14/10/81','16/03/82']\n",
    "\n",
    "def logistic1(DD, w0, k, n, r):\n",
    "    return k / (1 + ((k / w0)-1) * np.exp(-r * DD))\n",
    "\n",
    "weights=np.array([  \n",
    "                    [0.009687573, 0.044685234, 0.094008898, 0.227650969],\n",
    "                    [0.004384217, 0.031238793, 0.061785221, 0.146166469],\n",
    "                    [0.003410082, 0.014033932, 0.166518499, 0.791899893]])\n",
    "\n",
    "plt.figure()\n",
    "for i in range(0,3):\n",
    "    \n",
    "    def objective(params):\n",
    "        w0, k, r = params\n",
    "        y_pred = np.array([logistic1(DD[i][j], w0, k, time[i][j], r) for j in range(4)])\n",
    "        y_obs = weights[i]\n",
    "        return sum((y_obs - y_pred) ** 2)\n",
    "\n",
    "\n",
    "    params0 = [0.0005, 1, 0.01]\n",
    "    result = minimize(objective, params0)\n",
    "    print(\"Paramètres optimaux : w0 = %.8f, k = %.8f, r = %.8f\" % tuple(result.x))\n",
    "\n",
    "    y_obs = weights[i]\n",
    "\n",
    "    # Calcul de la somme des carrés totale\n",
    "    y_mean = np.mean(y_obs)\n",
    "    SST = sum((y_obs - y_mean) ** 2)\n",
    "\n",
    "    # Calcul de la somme des carrés résiduels\n",
    "    w0_opt, k_opt, r_opt = result.x\n",
    "    y_pred = np.array([logistic1(DD[i][j], w0_opt, k_opt, time[i][j], r_opt) for j in range(4)])\n",
    "    SSR = sum((y_obs - y_pred) ** 2)\n",
    "\n",
    "    # Calcul du coefficient de détermination\n",
    "    R2 = 1 - (SSR / SST)\n",
    "    print(\"Coefficient de détermination : R2 = %.4f\" % R2)\n",
    "    \n",
    "    def logistic2(t, w0, k, r):\n",
    "        return k / (1 + ((k / w0)-1) * np.exp(-r * t))\n",
    "    plt.xlabel('DD')\n",
    "    plt.ylabel('mean plant dry weight (g/plant)')\n",
    "    #plt.plot()\n",
    "    plt.plot(intervale, logistic2(intervale, w0_opt, k_opt, r_opt),ls=\"-\",label=('date=%s'%date[i]),lw=1)\n",
    "    plt.scatter(DD[i] , y_obs)\n",
    "    plt.title('density=180')\n",
    "    plt.legend()\n",
    "plt.subplots_adjust(left=0.145, bottom=0.108, right=0.988, top=0.94, wspace=0.246)\n",
    "plt.show()\n",
    "\n",
    "    \n",
    "    \n",
    "\n",
    "    \n",
    "    "
   ]
  },
  {
   "cell_type": "markdown",
   "id": "af72cb09",
   "metadata": {},
   "source": [
    "# d = 480 "
   ]
  },
  {
   "cell_type": "code",
   "execution_count": 4,
   "id": "5a19eb4f",
   "metadata": {},
   "outputs": [
    {
     "name": "stdout",
     "output_type": "stream",
     "text": [
      "Paramètres optimaux : w0 = 0.00044956, k = 1.03319609, r = 0.01575851\n",
      "Coefficient de détermination : R2 = 0.9999\n",
      "Paramètres optimaux : w0 = 0.00024322, k = 1.00624391, r = 0.01364725\n",
      "Coefficient de détermination : R2 = 0.9934\n",
      "Paramètres optimaux : w0 = 0.00013672, k = 0.73338735, r = 0.02264296\n",
      "Coefficient de détermination : R2 = 1.0000\n"
     ]
    }
   ],
   "source": [
    "%reset -f  \n",
    "import numpy as np\n",
    "from scipy.optimize import minimize\n",
    "import matplotlib.pyplot as plt\n",
    "plt.figure()\n",
    "\n",
    "DD=np.array([[200, 290, 335, 390],[ 180, 340, 405, 455],[ 135, 205, 315, 420 ]])\n",
    "intervale=np.linspace(100,500,1000)\n",
    "density=np.array([180,480,1920,7680])\n",
    "time=np.array([[13,19,22,27],[19,34,42,50],[16,23,35,43]])\n",
    "date=['03/09/81','14/10/81','16/03/82']\n",
    "\n",
    "def logistic1(DD, w0, k, n, r):\n",
    "    return k / (1 + ((k / w0)-1) * np.exp(-r * DD))\n",
    "\n",
    "weights=np.array([  \n",
    "                    [0.00950582, 0.041555591, 0.081858259, 0.174277332],\n",
    "                    [0.004358162, 0.02856206, 0.053209048, 0.109509946],\n",
    "                    [0.003427019, 0.013765618, 0.138878128, 0.524883641]])\n",
    "\n",
    "for i in range(0,3):\n",
    "    \n",
    "    def objective(params):\n",
    "        w0, k, r = params\n",
    "        y_pred = np.array([logistic1(DD[i][j], w0, k, time[i][j], r) for j in range(4)])\n",
    "        y_obs = weights[i]\n",
    "        return sum((y_obs - y_pred) ** 2)\n",
    "\n",
    "\n",
    "    params0 = [0.0005, 1, 0.01]\n",
    "    result = minimize(objective, params0)\n",
    "    print(\"Paramètres optimaux : w0 = %.8f, k = %.8f, r = %.8f\" % tuple(result.x))\n",
    "\n",
    "    y_obs = weights[i]\n",
    "\n",
    "    # Calcul de la somme des carrés totale\n",
    "    y_mean = np.mean(y_obs)\n",
    "    SST = sum((y_obs - y_mean) ** 2)\n",
    "\n",
    "    # Calcul de la somme des carrés résiduels\n",
    "    w0_opt, k_opt, r_opt= result.x\n",
    "    y_pred = np.array([logistic1(DD[i][j], w0_opt, k_opt, time[i][j], r_opt) for j in range(4)])\n",
    "    SSR = sum((y_obs - y_pred) ** 2)\n",
    "\n",
    "    # Calcul du coefficient de détermination\n",
    "    R2 = 1 - (SSR / SST)\n",
    "    print(\"Coefficient de détermination : R2 = %.4f\" % R2)\n",
    "    plt.xlabel('DD')\n",
    "    def logistic2(t, w0, k, r):\n",
    "        return k / (1 + ((k / w0)-1) * np.exp(-r * t))\n",
    "\n",
    "    plt.plot(intervale, logistic2(intervale, w0_opt, k_opt, r_opt),ls=\"-\",label=('date=%s'%date[i]),lw=1)\n",
    "    plt.scatter(DD[i], y_obs)\n",
    "    plt.title('density=480')\n",
    "plt.subplots_adjust(left=0.145, bottom=0.108, right=0.988, top=0.94, wspace=0.246)\n",
    "plt.show()\n",
    "    \n",
    "    \n",
    "    \n",
    "\n",
    "    "
   ]
  },
  {
   "cell_type": "markdown",
   "id": "aaa5e354",
   "metadata": {},
   "source": [
    "# d = 1920"
   ]
  },
  {
   "cell_type": "code",
   "execution_count": 5,
   "id": "9aba28c3",
   "metadata": {},
   "outputs": [
    {
     "name": "stdout",
     "output_type": "stream",
     "text": [
      "Using matplotlib backend: TkAgg\n",
      "Paramètres optimaux : w0 = 0.00044689, k = 0.15200862, r = 0.01533995\n",
      "Coefficient de détermination : R2 = 0.9998\n",
      "Paramètres optimaux : w0 = 0.00106933, k = 0.99990774, r = 0.00853541\n",
      "Coefficient de détermination : R2 = 0.9976\n",
      "Paramètres optimaux : w0 = 0.00026138, k = 0.26600116, r = 0.01914790\n",
      "Coefficient de détermination : R2 = 1.0000\n"
     ]
    }
   ],
   "source": [
    "%reset -f\n",
    "import numpy as np\n",
    "from scipy.optimize import minimize\n",
    "import matplotlib.pyplot as plt\n",
    "%matplotlib\n",
    "plt.ion()\n",
    "plt.figure()\n",
    "time=np.array([[13,19,22,27],[19,34,42,50],[16,23,35,43]])\n",
    "\n",
    "DD=np.array([[200, 290, 335, 390],[ 180, 340, 405, 455],[ 135, 205, 315, 420 ]])\n",
    "intervale=np.linspace(100,500,1000)\n",
    "density=np.array([180,480,1920,7680])\n",
    "date=['03/09/81','14/10/81','16/03/82']\n",
    "\n",
    "def logistic1(DD, w0, k, n, r):\n",
    "    return k / (1 + ((k / w0)-1) * np.exp(-r * DD))\n",
    "\n",
    "weights=np.array([  \n",
    "                    [0.008720495, 0.031100293, 0.050517334, 0.081998265],\n",
    "                    [0.004237288, 0.020238212, 0.031933032, 0.049692016],\n",
    "                    [0.003510715, 0.012608524, 0.077294031, 0.200453187]])\n",
    "\n",
    "for i in range(0,3):\n",
    "    \n",
    "    def objective(params):\n",
    "        w0, k, r = params\n",
    "        y_pred = np.array([logistic1(DD[i][j], w0, k, time[i][j], r) for j in range(4)])\n",
    "        y_obs = weights[i]\n",
    "        return sum((y_obs - y_pred) ** 2)\n",
    "\n",
    "\n",
    "    params0 = [0.0005, 1, 0.01]\n",
    "    result = minimize(objective, params0)\n",
    "    print(\"Paramètres optimaux : w0 = %.8f, k = %.8f, r = %.8f\" % tuple(result.x))\n",
    "\n",
    "    y_obs = weights[i]\n",
    "\n",
    "    # Calcul de la somme des carrés totale\n",
    "    y_mean = np.mean(y_obs)\n",
    "    SST = sum((y_obs - y_mean) ** 2)\n",
    "\n",
    "    # Calcul de la somme des carrés résiduels\n",
    "    w0_opt, k_opt, r_opt = result.x\n",
    "    y_pred = np.array([logistic1(DD[i][j], w0_opt, k_opt, time[i][j], r_opt) for j in range(4)])\n",
    "    SSR = sum((y_obs - y_pred) ** 2)\n",
    "\n",
    "    # Calcul du coefficient de détermination\n",
    "    R2 = 1 - (SSR / SST)\n",
    "    print(\"Coefficient de détermination : R2 = %.4f\" % R2)\n",
    "    plt.xlabel('DD')\n",
    "    def logistic2(t, w0, k, r):\n",
    "        return k / (1 + ((k / w0)-1) * np.exp(-r * t))\n",
    "\n",
    "    plt.plot()\n",
    "    plt.plot(intervale, logistic2(intervale, w0_opt, k_opt, r_opt),ls=\"-\",label=('date=%s'%date[i]),lw=1)\n",
    "    plt.scatter(DD[i], y_obs)\n",
    "    plt.title('density=1920')\n",
    "plt.subplots_adjust(left=0.145, bottom=0.108, right=0.988, top=0.94, wspace=0.246)\n",
    "plt.show()\n"
   ]
  },
  {
   "cell_type": "markdown",
   "id": "c06bdddd",
   "metadata": {},
   "source": [
    "# d = 7680"
   ]
  },
  {
   "cell_type": "code",
   "execution_count": 6,
   "id": "adaf9ff4",
   "metadata": {},
   "outputs": [
    {
     "name": "stdout",
     "output_type": "stream",
     "text": [
      "Using matplotlib backend: TkAgg\n",
      "Paramètres optimaux : w0 = 0.00226728, k = 0.99989722, r = 0.00641644\n",
      "Coefficient de détermination : R2 = 0.9763\n",
      "Paramètres optimaux : w0 = 0.00170600, k = 0.99998418, r = 0.00490872\n",
      "Coefficient de détermination : R2 = 0.9969\n",
      "Paramètres optimaux : w0 = 0.00198737, k = 0.99996571, r = 0.00818458\n",
      "Coefficient de détermination : R2 = 0.9936\n"
     ]
    }
   ],
   "source": [
    "%reset -f \n",
    "import numpy as np\n",
    "from scipy.optimize import minimize\n",
    "import matplotlib.pyplot as plt\n",
    "%matplotlib\n",
    "plt.ion()\n",
    "plt.figure()\n",
    "\n",
    "\n",
    "DD=np.array([[200, 290, 335, 390],[ 180, 340, 405, 455],[ 135, 205, 315, 420 ]])\n",
    "intervale=np.linspace(100,500,1000)\n",
    "density=np.array([180,480,1920,7680])\n",
    "time=np.array([[13,19,22,27],[19,34,42,50],[16,23,35,43]])\n",
    "date=['03/09/81','14/10/81','16/03/82']\n",
    "\n",
    "def logistic1(DD, w0, k, n, r):\n",
    "    return k / (1 + ((k / w0)-1) * np.exp(-r * DD))\n",
    "\n",
    "weights=np.array([   \n",
    "                    [0.006554492, 0.01550061, 0.019955708, 0.026298504],\n",
    "                    [0.003814147, 0.009344792, 0.012284636, 0.015602225],\n",
    "                    [0.003890805, 0.009435913, 0.027866162, 0.057727578]])\n",
    "\n",
    "\n",
    "for i in range(0,3):\n",
    "    \n",
    "    def objective(params):\n",
    "        w0, k, r = params\n",
    "        y_pred = np.array([logistic1(DD[i][j], w0, k, time[i][j], r) for j in range(4)])\n",
    "        y_obs = weights[i]\n",
    "        return sum((y_obs - y_pred) ** 2)\n",
    "\n",
    "    \n",
    "    params0 = [0.0005, 1, 0.008]\n",
    "    result = minimize(objective, params0)\n",
    "    print(\"Paramètres optimaux : w0 = %.8f, k = %.8f, r = %.8f\" % tuple(result.x))\n",
    "\n",
    "    y_obs = weights[i]\n",
    "\n",
    "    # Calcul de la somme des carrés totale\n",
    "    y_mean = np.mean(y_obs)\n",
    "    SST = sum((y_obs - y_mean) ** 2)\n",
    "\n",
    "    # Calcul de la somme des carrés résiduels\n",
    "    w0_opt, k_opt, r_opt = result.x\n",
    "    y_pred = np.array([logistic1(DD[i][j], w0_opt, k_opt, time[i][j], r_opt) for j in range(4)])\n",
    "    SSR = sum((y_obs - y_pred) ** 2)\n",
    "\n",
    "    # Calcul du coefficient de détermination\n",
    "    R2 = 1 - (SSR / SST)\n",
    "    print(\"Coefficient de détermination : R2 = %.4f\" % R2)\n",
    "    \n",
    "    def logistic2(t, w0, k, r):\n",
    "        return k / (1 + ((k / w0)-1) * np.exp(-r * t))\n",
    "    plt.xlabel('DD')\n",
    "    plt.plot()\n",
    "    plt.plot(intervale, logistic2(intervale, w0_opt, k_opt, r_opt),ls=\"-\",label=('date=%s'%date[i]),lw=1)\n",
    "    plt.scatter(DD[i], y_obs)\n",
    "    plt.title('density=7680')\n",
    "plt.subplots_adjust(left=0.145, bottom=0.108, right=0.988, top=0.94, wspace=0.246)\n",
    "plt.ticklabel_format(axis='y', style='sci', scilimits=(0,0))\n",
    "plt.show()"
   ]
  },
  {
   "cell_type": "code",
   "execution_count": null,
   "id": "fe49f523",
   "metadata": {},
   "outputs": [],
   "source": []
  },
  {
   "cell_type": "code",
   "execution_count": null,
   "id": "a27deb93",
   "metadata": {},
   "outputs": [],
   "source": []
  },
  {
   "cell_type": "code",
   "execution_count": null,
   "id": "01d25a27",
   "metadata": {},
   "outputs": [],
   "source": []
  },
  {
   "cell_type": "code",
   "execution_count": null,
   "id": "e51ea0e4",
   "metadata": {},
   "outputs": [],
   "source": []
  }
 ],
 "metadata": {
  "kernelspec": {
   "display_name": "Python 3 (ipykernel)",
   "language": "python",
   "name": "python3"
  },
  "language_info": {
   "codemirror_mode": {
    "name": "ipython",
    "version": 3
   },
   "file_extension": ".py",
   "mimetype": "text/x-python",
   "name": "python",
   "nbconvert_exporter": "python",
   "pygments_lexer": "ipython3",
   "version": "3.9.12"
  }
 },
 "nbformat": 4,
 "nbformat_minor": 5
}
